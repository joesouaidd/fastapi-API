{
 "cells": [
  {
   "cell_type": "code",
   "execution_count": 7,
   "id": "373949b1",
   "metadata": {},
   "outputs": [],
   "source": [
    "import requests\n",
    "import json\n",
    "\n",
    "BASE_URL = \"http://127.0.0.1:8000/sales\""
   ]
  },
  {
   "cell_type": "code",
   "execution_count": 9,
   "id": "7a4cdae0",
   "metadata": {},
   "outputs": [
    {
     "name": "stdout",
     "output_type": "stream",
     "text": [
      "POST new sale: 200 {'OrderNumber': 366000, 'OrderDate': '2023-01-01', 'CustomerKey': 9999, 'ProductKey': 9999, 'CurrencyCode': 'USD', 'DeliveryDate': '2023-01-10', 'LineItem': 3, 'StoreKey': 9999, 'Quantity': 5}\n"
     ]
    }
   ],
   "source": [
    "new_sale = {\n",
    "    \"OrderNumber\": 366000,\n",
    "    \"LineItem\": 3,\n",
    "    \"OrderDate\": \"2023-01-01\",\n",
    "    \"DeliveryDate\": \"2023-01-10\",\n",
    "    \"CustomerKey\": 9999,\n",
    "    \"StoreKey\": 9999,\n",
    "    \"ProductKey\": 9999,\n",
    "    \"Quantity\": 5,\n",
    "    \"CurrencyCode\": \"USD\"\n",
    "}\n",
    "response = requests.post(BASE_URL, json=new_sale)\n",
    "print(\"POST new sale:\", response.status_code, response.json())"
   ]
  },
  {
   "cell_type": "markdown",
   "id": "9627e84d",
   "metadata": {},
   "source": [
    "## Get sales [0-5]"
   ]
  },
  {
   "cell_type": "code",
   "execution_count": 4,
   "id": "842b681b",
   "metadata": {},
   "outputs": [
    {
     "name": "stdout",
     "output_type": "stream",
     "text": [
      "200 {'data': [{'OrderNumber': 366000, 'OrderDate': '1/1/2016', 'CustomerKey': 265598, 'ProductKey': 1304, 'CurrencyCode': 'CAD', 'DeliveryDate': None, 'LineItem': 1, 'StoreKey': 10, 'Quantity': 1}, {'OrderNumber': 366001, 'OrderDate': '1/1/2016', 'CustomerKey': 1269051, 'ProductKey': 1048, 'CurrencyCode': 'USD', 'DeliveryDate': '1/13/2016', 'LineItem': 1, 'StoreKey': 0, 'Quantity': 2}, {'OrderNumber': 366001, 'OrderDate': '1/1/2016', 'CustomerKey': 1269051, 'ProductKey': 2007, 'CurrencyCode': 'USD', 'DeliveryDate': '1/13/2016', 'LineItem': 2, 'StoreKey': 0, 'Quantity': 1}, {'OrderNumber': 366002, 'OrderDate': '1/1/2016', 'CustomerKey': 266019, 'ProductKey': 1106, 'CurrencyCode': 'CAD', 'DeliveryDate': '1/12/2016', 'LineItem': 1, 'StoreKey': 0, 'Quantity': 7}, {'OrderNumber': 366002, 'OrderDate': '1/1/2016', 'CustomerKey': 266019, 'ProductKey': 373, 'CurrencyCode': 'CAD', 'DeliveryDate': '1/12/2016', 'LineItem': 2, 'StoreKey': 0, 'Quantity': 1}], 'count': 5}\n"
     ]
    }
   ],
   "source": [
    "response = requests.get(f\"{BASE_URL}/?offset=0&limit=5\")\n",
    "print(response.status_code, response.json())"
   ]
  },
  {
   "cell_type": "markdown",
   "id": "64111c02",
   "metadata": {},
   "source": [
    "## Get sale by ID"
   ]
  },
  {
   "cell_type": "code",
   "execution_count": 5,
   "id": "7a6afee3",
   "metadata": {},
   "outputs": [
    {
     "name": "stdout",
     "output_type": "stream",
     "text": [
      "GET sales record 366001/1: 200 {'OrderNumber': 366001, 'OrderDate': '1/1/2016', 'CustomerKey': 1269051, 'ProductKey': 1048, 'CurrencyCode': 'USD', 'DeliveryDate': '1/13/2016', 'LineItem': 1, 'StoreKey': 0, 'Quantity': 2}\n"
     ]
    }
   ],
   "source": [
    "# GET sales record by OrderNumber and LineItem\n",
    "order_number = 366001\n",
    "line_item = 1\n",
    "response = requests.get(f\"{BASE_URL}/{order_number}/{line_item}\")\n",
    "print(f\"GET sales record {order_number}/{line_item}:\", response.status_code, response.json())"
   ]
  },
  {
   "cell_type": "markdown",
   "id": "ccefabcd",
   "metadata": {},
   "source": [
    "## Update a Sale"
   ]
  },
  {
   "cell_type": "code",
   "execution_count": 12,
   "id": "6076aaea",
   "metadata": {},
   "outputs": [
    {
     "name": "stdout",
     "output_type": "stream",
     "text": [
      "PUT update sales record: 200 {\"OrderNumber\":366001,\"OrderDate\":\"2023-01-02\",\"CustomerKey\":9999,\"ProductKey\":9999,\"CurrencyCode\":\"EUR\",\"DeliveryDate\":\"2023-01-12\",\"LineItem\":1,\"StoreKey\":9999,\"Quantity\":8}\n"
     ]
    }
   ],
   "source": [
    "updated_sale = {\n",
    "    \"OrderDate\": \"2023-01-02\",\n",
    "    \"DeliveryDate\": \"2023-01-12\",\n",
    "    \"CustomerKey\": 9999,  # Ensure valid CustomerKey\n",
    "    \"StoreKey\": 9999,  # Ensure valid StoreKey\n",
    "    \"ProductKey\": 9999,  # Ensure valid ProductKey\n",
    "    \"Quantity\": 8,  # Updated Quantity\n",
    "    \"CurrencyCode\": \"EUR\"  # Updated Currency\n",
    "}\n",
    "\n",
    "response = requests.put(f\"{BASE_URL}/{order_number}/{line_item}\", json=updated_sale)\n",
    "print(\"PUT update sales record:\", response.status_code, response.text)\n"
   ]
  },
  {
   "cell_type": "markdown",
   "id": "7411cfff",
   "metadata": {},
   "source": [
    "## Partially Update a Sale"
   ]
  },
  {
   "cell_type": "code",
   "execution_count": 10,
   "id": "b4dfb164",
   "metadata": {},
   "outputs": [
    {
     "name": "stdout",
     "output_type": "stream",
     "text": [
      "PATCH partial update sales record: 200 {'OrderNumber': 366001, 'OrderDate': '1/1/2016', 'CustomerKey': 1269051, 'ProductKey': 1048, 'CurrencyCode': 'USD', 'DeliveryDate': '1/13/2016', 'LineItem': 1, 'StoreKey': 0, 'Quantity': 10}\n"
     ]
    }
   ],
   "source": [
    "# PATCH - Partial update of a sales record\n",
    "partial_update = {\"Quantity\": 10}\n",
    "response = requests.patch(f\"{BASE_URL}/{order_number}/{line_item}\", json=partial_update)\n",
    "print(\"PATCH partial update sales record:\", response.status_code, response.json())\n"
   ]
  },
  {
   "cell_type": "markdown",
   "id": "3e89859a",
   "metadata": {},
   "source": [
    "## Delete the created Sale"
   ]
  },
  {
   "cell_type": "code",
   "execution_count": 13,
   "id": "21972e6c",
   "metadata": {},
   "outputs": [
    {
     "name": "stdout",
     "output_type": "stream",
     "text": [
      "DELETE sales record: 200 {'200': 'Sales record with OrderNumber 366000 and LineItem 3 successfully deleted'}\n"
     ]
    }
   ],
   "source": [
    "# DELETE - Remove the sales record\n",
    "response = requests.delete(f\"{BASE_URL}/366000/3\")\n",
    "print(\"DELETE sales record:\", response.status_code, response.json())"
   ]
  },
  {
   "cell_type": "code",
   "execution_count": null,
   "id": "95533c90-600d-4802-8a0e-5f9ca30b54bf",
   "metadata": {},
   "outputs": [],
   "source": []
  }
 ],
 "metadata": {
  "kernelspec": {
   "display_name": "Python 3 (ipykernel)",
   "language": "python",
   "name": "python3"
  },
  "language_info": {
   "codemirror_mode": {
    "name": "ipython",
    "version": 3
   },
   "file_extension": ".py",
   "mimetype": "text/x-python",
   "name": "python",
   "nbconvert_exporter": "python",
   "pygments_lexer": "ipython3",
   "version": "3.10.12"
  }
 },
 "nbformat": 4,
 "nbformat_minor": 5
}

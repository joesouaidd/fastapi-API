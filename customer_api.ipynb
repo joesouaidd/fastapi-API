{
 "cells": [
  {
   "cell_type": "code",
   "execution_count": 6,
   "id": "373949b1",
   "metadata": {},
   "outputs": [],
   "source": [
    "import requests\n",
    "import json\n",
    "url = 'http://127.0.0.1:8000/customers'"
   ]
  },
  {
   "cell_type": "code",
   "execution_count": 7,
   "id": "7a4cdae0",
   "metadata": {},
   "outputs": [
    {
     "name": "stdout",
     "output_type": "stream",
     "text": [
      "200 {'Gender': 'Male', 'City': 'Test City', 'State': 'Test State', 'Country': 'Testland', 'Birthday': '1990-01-01', 'StateCode': 'TC', 'CustomerKey': 15269, 'Name': 'Test Customer', 'ZipCode': '12345', 'Continent': 'Test Continent'}\n"
     ]
    }
   ],
   "source": [
    "payload = {\n",
    "    \"CustomerKey\": 15269,\n",
    "    \"Gender\": \"Male\",\n",
    "    \"Name\": \"Test Customer\",\n",
    "    \"City\": \"Test City\",\n",
    "    \"StateCode\": \"TC\",\n",
    "    \"State\": \"Test State\",\n",
    "    \"ZipCode\": \"12345\",\n",
    "    \"Country\": \"Testland\",\n",
    "    \"Continent\": \"Test Continent\",\n",
    "    \"Birthday\": \"1990-01-01\"\n",
    "}\n",
    "response = requests.post(f\"{url}/\", json=payload)\n",
    "print(response.status_code, response.json())"
   ]
  },
  {
   "cell_type": "markdown",
   "id": "9627e84d",
   "metadata": {},
   "source": [
    "## Get Customers [0-5]"
   ]
  },
  {
   "cell_type": "code",
   "execution_count": 8,
   "id": "842b681b",
   "metadata": {},
   "outputs": [
    {
     "name": "stdout",
     "output_type": "stream",
     "text": [
      "200 {'data': [{'Gender': 'Female', 'City': 'WANDEARAH EAST', 'State': 'South Australia', 'Country': 'Australia', 'Birthday': '7/3/1939', 'StateCode': 'SA', 'CustomerKey': 301, 'Name': 'Lilly Harding', 'ZipCode': '5523', 'Continent': 'Australia'}, {'Gender': 'Male', 'City': 'New York', 'State': 'New York', 'Country': 'USA', 'Birthday': '2000-05-15', 'StateCode': 'NY', 'CustomerKey': 325, 'Name': 'John Updated', 'ZipCode': '10001', 'Continent': 'North America'}, {'Gender': 'Female', 'City': 'WINJALLOK', 'State': 'Victoria', 'Country': 'Australia', 'Birthday': '5/26/1947', 'StateCode': 'VIC', 'CustomerKey': 554, 'Name': 'Claire Ferres', 'ZipCode': '3380', 'Continent': 'Australia'}, {'Gender': 'Male', 'City': 'MIDDLE RIVER', 'State': 'South Australia', 'Country': 'Australia', 'Birthday': '9/17/1957', 'StateCode': 'SA', 'CustomerKey': 786, 'Name': 'Jai Poltpalingada', 'ZipCode': '5223', 'Continent': 'Australia'}, {'Gender': 'Male', 'City': 'TAWONGA SOUTH', 'State': 'Victoria', 'Country': 'Australia', 'Birthday': '11/19/1965', 'StateCode': 'VIC', 'CustomerKey': 1042, 'Name': 'Aidan Pankhurst', 'ZipCode': '3698', 'Continent': 'Australia'}], 'count': 5}\n"
     ]
    }
   ],
   "source": [
    "response = requests.get(f\"{url}/?offset=0&limit=5\")\n",
    "print(response.status_code, response.json())"
   ]
  },
  {
   "cell_type": "markdown",
   "id": "64111c02",
   "metadata": {},
   "source": [
    "## Get Customer by ID"
   ]
  },
  {
   "cell_type": "code",
   "execution_count": 9,
   "id": "7a6afee3",
   "metadata": {},
   "outputs": [
    {
     "name": "stdout",
     "output_type": "stream",
     "text": [
      "200 {'Gender': 'Female', 'City': 'WANDEARAH EAST', 'State': 'South Australia', 'Country': 'Australia', 'Birthday': '7/3/1939', 'StateCode': 'SA', 'CustomerKey': 301, 'Name': 'Lilly Harding', 'ZipCode': '5523', 'Continent': 'Australia'}\n"
     ]
    }
   ],
   "source": [
    "customer_id = 301\n",
    "response = requests.get(f\"{url}/{customer_id}\")\n",
    "print(response.status_code, response.json())"
   ]
  },
  {
   "cell_type": "markdown",
   "id": "ccefabcd",
   "metadata": {},
   "source": [
    "## Update a Customer"
   ]
  },
  {
   "cell_type": "code",
   "execution_count": 10,
   "id": "6076aaea",
   "metadata": {},
   "outputs": [
    {
     "name": "stdout",
     "output_type": "stream",
     "text": [
      "200 {'Gender': 'Male', 'City': 'New York', 'State': 'New York', 'Country': 'USA', 'Birthday': '2000-05-15', 'StateCode': 'NY', 'CustomerKey': 325, 'Name': 'John Updated', 'ZipCode': '10001', 'Continent': 'North America'}\n"
     ]
    }
   ],
   "source": [
    "# Payload for updating a customer\n",
    "payload = {\n",
    "    \"CustomerKey\": 325,  \n",
    "    \"Gender\": \"Male\",\n",
    "    \"Name\": \"John Updated\",\n",
    "    \"City\": \"New York\",\n",
    "    \"StateCode\": \"NY\",\n",
    "    \"State\": \"New York\",\n",
    "    \"ZipCode\": \"10001\",\n",
    "    \"Country\": \"USA\",\n",
    "    \"Continent\": \"North America\",\n",
    "    \"Birthday\": \"2000-05-15\"\n",
    "}\n",
    "\n",
    "# Sending a PUT request to update customer with ID 325\n",
    "response = requests.put(f\"{url}/325\", json=payload)\n",
    "\n",
    "# Print response status and JSON data\n",
    "print(response.status_code, response.json())"
   ]
  },
  {
   "cell_type": "markdown",
   "id": "7411cfff",
   "metadata": {},
   "source": [
    "## Partially Update a Customer"
   ]
  },
  {
   "cell_type": "code",
   "execution_count": 11,
   "id": "b4dfb164",
   "metadata": {},
   "outputs": [
    {
     "name": "stdout",
     "output_type": "stream",
     "text": [
      "200 {'Gender': 'Male', 'City': 'Beirut', 'State': 'New York', 'Country': 'USA', 'Birthday': '2000-05-15', 'StateCode': 'NY', 'CustomerKey': 325, 'Name': 'John Updated', 'ZipCode': '10001', 'Continent': 'North America'}\n"
     ]
    }
   ],
   "source": [
    "payload = {\n",
    "    \"City\": \"Beirut\",\n",
    "}\n",
    "response = requests.patch(f\"{url}/325\", json=payload)\n",
    "print(response.status_code, response.json())"
   ]
  },
  {
   "cell_type": "markdown",
   "id": "3e89859a",
   "metadata": {},
   "source": [
    "## Delete the new Customer"
   ]
  },
  {
   "cell_type": "code",
   "execution_count": 12,
   "id": "21972e6c",
   "metadata": {},
   "outputs": [
    {
     "name": "stdout",
     "output_type": "stream",
     "text": [
      "200 {'200': 'Customer 15269 successfully deleted'}\n"
     ]
    }
   ],
   "source": [
    "# Customer ID to delete\n",
    "customer_id = 15269\n",
    "\n",
    "# Sending DELETE request\n",
    "response = requests.delete(f\"{url}/{customer_id}\")\n",
    "\n",
    "# Print response status and JSON data\n",
    "print(response.status_code, response.json())"
   ]
  },
  {
   "cell_type": "code",
   "execution_count": null,
   "id": "8efa7c0b-c5fc-42f9-bc27-b919ba40dceb",
   "metadata": {},
   "outputs": [],
   "source": []
  }
 ],
 "metadata": {
  "kernelspec": {
   "display_name": "Python 3 (ipykernel)",
   "language": "python",
   "name": "python3"
  },
  "language_info": {
   "codemirror_mode": {
    "name": "ipython",
    "version": 3
   },
   "file_extension": ".py",
   "mimetype": "text/x-python",
   "name": "python",
   "nbconvert_exporter": "python",
   "pygments_lexer": "ipython3",
   "version": "3.10.12"
  }
 },
 "nbformat": 4,
 "nbformat_minor": 5
}

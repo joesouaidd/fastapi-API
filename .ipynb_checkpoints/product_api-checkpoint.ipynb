{
 "cells": [
  {
   "cell_type": "code",
   "execution_count": 18,
   "id": "373949b1",
   "metadata": {},
   "outputs": [],
   "source": [
    "import requests\n",
    "import json\n",
    "\n",
    "BASE_URL = \"http://127.0.0.1:8000/products\""
   ]
  },
  {
   "cell_type": "code",
   "execution_count": 19,
   "id": "7a4cdae0",
   "metadata": {},
   "outputs": [
    {
     "name": "stdout",
     "output_type": "stream",
     "text": [
      "POST new product: 200 {'ProductKey': 2519, 'Color': 'Red', 'UnitPriceUSD': 15.0, 'Subcategory': 'Test Subcategory', 'Category': 'Test Category', 'ProductName': 'Test Product', 'UnitCostUSD': 10.5, 'Brand': 'Test Brand', 'SubcategoryKey': 1, 'CategoryKey': 1}\n"
     ]
    }
   ],
   "source": [
    "new_product = {\n",
    "    \"ProductKey\": 2519,\n",
    "    \"ProductName\": \"Test Product\",\n",
    "    \"Brand\": \"Test Brand\",\n",
    "    \"Color\": \"Red\",\n",
    "    \"UnitCostUSD\": 10.5,\n",
    "    \"UnitPriceUSD\": 15.0,\n",
    "    \"SubcategoryKey\": 1,\n",
    "    \"Subcategory\": \"Test Subcategory\",\n",
    "    \"CategoryKey\": 1,\n",
    "    \"Category\": \"Test Category\"\n",
    "}\n",
    "response = requests.post(BASE_URL, json=new_product)\n",
    "print(\"POST new product:\", response.status_code, response.json())"
   ]
  },
  {
   "cell_type": "markdown",
   "id": "9627e84d",
   "metadata": {},
   "source": [
    "## Get products [0-5]"
   ]
  },
  {
   "cell_type": "code",
   "execution_count": 20,
   "id": "842b681b",
   "metadata": {},
   "outputs": [
    {
     "name": "stdout",
     "output_type": "stream",
     "text": [
      "200 {'data': [{'ProductKey': 1, 'Color': 'Green', 'UnitPriceUSD': 15.0, 'Subcategory': 'Test Subcategory', 'Category': 'Test Category', 'ProductName': 'Test Product', 'UnitCostUSD': 10.5, 'Brand': 'Test Brand', 'SubcategoryKey': 1, 'CategoryKey': 1}, {'ProductKey': 2, 'Color': 'Blue', 'UnitPriceUSD': '$12.99 ', 'Subcategory': 'MP4&MP3', 'Category': 'Audio', 'ProductName': 'Contoso 512MB MP3 Player E51 Blue', 'UnitCostUSD': '$6.62 ', 'Brand': 'Contoso', 'SubcategoryKey': 101, 'CategoryKey': 1}, {'ProductKey': 3, 'Color': 'White', 'UnitPriceUSD': '$14.52 ', 'Subcategory': 'MP4&MP3', 'Category': 'Audio', 'ProductName': 'Contoso 1G MP3 Player E100 White', 'UnitCostUSD': '$7.40 ', 'Brand': 'Contoso', 'SubcategoryKey': 101, 'CategoryKey': 1}, {'ProductKey': 4, 'Color': 'Silver', 'UnitPriceUSD': '$21.57 ', 'Subcategory': 'MP4&MP3', 'Category': 'Audio', 'ProductName': 'Contoso 2G MP3 Player E200 Silver', 'UnitCostUSD': '$11.00 ', 'Brand': 'Contoso', 'SubcategoryKey': 101, 'CategoryKey': 1}, {'ProductKey': 5, 'Color': 'Red', 'UnitPriceUSD': '$21.57 ', 'Subcategory': 'MP4&MP3', 'Category': 'Audio', 'ProductName': 'Contoso 2G MP3 Player E200 Red', 'UnitCostUSD': '$11.00 ', 'Brand': 'Contoso', 'SubcategoryKey': 101, 'CategoryKey': 1}], 'count': 5}\n"
     ]
    }
   ],
   "source": [
    "response = requests.get(f\"{BASE_URL}/?offset=0&limit=5\")\n",
    "print(response.status_code, response.json())"
   ]
  },
  {
   "cell_type": "markdown",
   "id": "64111c02",
   "metadata": {},
   "source": [
    "## Get Product by ID"
   ]
  },
  {
   "cell_type": "code",
   "execution_count": 21,
   "id": "7a6afee3",
   "metadata": {},
   "outputs": [
    {
     "name": "stdout",
     "output_type": "stream",
     "text": [
      "GET product 1: 200 {'ProductKey': 1, 'Color': 'Green', 'UnitPriceUSD': 15.0, 'Subcategory': 'Test Subcategory', 'Category': 'Test Category', 'ProductName': 'Test Product', 'UnitCostUSD': 10.5, 'Brand': 'Test Brand', 'SubcategoryKey': 1, 'CategoryKey': 1}\n"
     ]
    }
   ],
   "source": [
    "product_id = 1\n",
    "response = requests.get(f\"{BASE_URL}/{product_id}\")\n",
    "print(f\"GET product {product_id}:\", response.status_code, response.json())"
   ]
  },
  {
   "cell_type": "markdown",
   "id": "ccefabcd",
   "metadata": {},
   "source": [
    "## Update a Product"
   ]
  },
  {
   "cell_type": "code",
   "execution_count": 22,
   "id": "6076aaea",
   "metadata": {},
   "outputs": [
    {
     "name": "stdout",
     "output_type": "stream",
     "text": [
      "PUT update product: 200\n",
      "Raw response text: {\"ProductKey\":1,\"Color\":\"Green\",\"UnitPriceUSD\":15.0,\"Subcategory\":\"Test Subcategory\",\"Category\":\"Test Category\",\"ProductName\":\"Test Product\",\"UnitCostUSD\":10.5,\"Brand\":\"Test Brand\",\"SubcategoryKey\":1,\"CategoryKey\":1}\n"
     ]
    }
   ],
   "source": [
    "updated_product = {    \"ProductKey\": 1,\n",
    "    \"ProductName\": \"Test Product\",\n",
    "    \"Brand\": \"Test Brand\",\n",
    "    \"Color\": \"Green\",\n",
    "    \"UnitCostUSD\": 10.5,\n",
    "    \"UnitPriceUSD\": 15.0,\n",
    "    \"SubcategoryKey\": 1,\n",
    "    \"Subcategory\": \"Test Subcategory\",\n",
    "    \"CategoryKey\": 1,\n",
    "    \"Category\": \"Test Category\"\n",
    "                  }\n",
    "response = requests.put(f\"{BASE_URL}/1\", json=updated_product)\n",
    "\n",
    "print(\"PUT update product:\", response.status_code)\n",
    "print(\"Raw response text:\", response.text)  # Debugging step\n"
   ]
  },
  {
   "cell_type": "markdown",
   "id": "7411cfff",
   "metadata": {},
   "source": [
    "## Partially Update a Sale"
   ]
  },
  {
   "cell_type": "code",
   "execution_count": 23,
   "id": "b4dfb164",
   "metadata": {},
   "outputs": [
    {
     "name": "stdout",
     "output_type": "stream",
     "text": [
      "PATCH partial update product: 200 {'ProductKey': 1, 'Color': 'Blue', 'UnitPriceUSD': 15.0, 'Subcategory': 'Test Subcategory', 'Category': 'Test Category', 'ProductName': 'Test Product', 'UnitCostUSD': 10.5, 'Brand': 'Test Brand', 'SubcategoryKey': 1, 'CategoryKey': 1}\n"
     ]
    }
   ],
   "source": [
    "# PATCH - Partial update of a product\n",
    "partial_update = {\"Color\": \"Blue\"}\n",
    "response = requests.patch(f\"{BASE_URL}/1\", json=partial_update)\n",
    "print(\"PATCH partial update product:\", response.status_code, response.json())"
   ]
  },
  {
   "cell_type": "markdown",
   "id": "3e89859a",
   "metadata": {},
   "source": [
    "## Delete the new Customer"
   ]
  },
  {
   "cell_type": "code",
   "execution_count": 24,
   "id": "21972e6c",
   "metadata": {},
   "outputs": [
    {
     "name": "stdout",
     "output_type": "stream",
     "text": [
      "DELETE product: 200 {'200': 'Product 2519 successfully deleted'}\n"
     ]
    }
   ],
   "source": [
    "# DELETE - Remove the product\n",
    "response = requests.delete(f\"{BASE_URL}/2519\")\n",
    "print(\"DELETE product:\", response.status_code, response.json())"
   ]
  },
  {
   "cell_type": "code",
   "execution_count": null,
   "id": "e01bb4b4-a4cd-494b-809e-f0510700d67e",
   "metadata": {},
   "outputs": [],
   "source": []
  }
 ],
 "metadata": {
  "kernelspec": {
   "display_name": "Python 3 (ipykernel)",
   "language": "python",
   "name": "python3"
  },
  "language_info": {
   "codemirror_mode": {
    "name": "ipython",
    "version": 3
   },
   "file_extension": ".py",
   "mimetype": "text/x-python",
   "name": "python",
   "nbconvert_exporter": "python",
   "pygments_lexer": "ipython3",
   "version": "3.10.12"
  }
 },
 "nbformat": 4,
 "nbformat_minor": 5
}

{
 "cells": [
  {
   "cell_type": "code",
   "execution_count": 2,
   "id": "373949b1",
   "metadata": {},
   "outputs": [],
   "source": [
    "import requests\n",
    "import json\n",
    "\n",
    "BASE_URL = \"http://127.0.0.1:8000/stores\""
   ]
  },
  {
   "cell_type": "code",
   "execution_count": 10,
   "id": "7a4cdae0",
   "metadata": {},
   "outputs": [
    {
     "name": "stdout",
     "output_type": "stream",
     "text": [
      "200 {'SquareMeters': 100.5, 'StoreKey': 67, 'Country': 'Testland', 'State': 'Test State', 'OpenDate': '2020-01-01'}\n"
     ]
    }
   ],
   "source": [
    "payload = {\n",
    "    \"StoreKey\": 67,\n",
    "    \"Country\": \"Testland\",\n",
    "    \"State\": \"Test State\",\n",
    "    \"SquareMeters\": 100.5,\n",
    "    \"OpenDate\": \"2020-01-01\"\n",
    "}\n",
    "response = requests.post(f\"{BASE_URL}/\", json=payload)\n",
    "print(response.status_code, response.json())"
   ]
  },
  {
   "cell_type": "markdown",
   "id": "9627e84d",
   "metadata": {},
   "source": [
    "## Get Stores [0-5]"
   ]
  },
  {
   "cell_type": "code",
   "execution_count": 5,
   "id": "842b681b",
   "metadata": {},
   "outputs": [
    {
     "name": "stdout",
     "output_type": "stream",
     "text": [
      "200 {'data': [{'SquareMeters': None, 'StoreKey': 0, 'Country': 'Online', 'State': 'Online', 'OpenDate': '1/1/2010'}, {'SquareMeters': 595.0, 'StoreKey': 1, 'Country': 'Australia', 'State': 'Australian Capital Territory', 'OpenDate': '1/1/2008'}, {'SquareMeters': 665.0, 'StoreKey': 2, 'Country': 'Australia', 'State': 'Northern Territory', 'OpenDate': '1/12/2008'}, {'SquareMeters': 2000.0, 'StoreKey': 3, 'Country': 'Australia', 'State': 'South Australia', 'OpenDate': '1/7/2012'}, {'SquareMeters': 2000.0, 'StoreKey': 4, 'Country': 'Australia', 'State': 'Tasmania', 'OpenDate': '1/1/2010'}], 'count': 5}\n"
     ]
    }
   ],
   "source": [
    "response = requests.get(f\"{BASE_URL}/?offset=0&limit=5\")\n",
    "print(response.status_code, response.json())"
   ]
  },
  {
   "cell_type": "markdown",
   "id": "64111c02",
   "metadata": {},
   "source": [
    "## Get Store by ID"
   ]
  },
  {
   "cell_type": "code",
   "execution_count": 6,
   "id": "7a6afee3",
   "metadata": {},
   "outputs": [
    {
     "name": "stdout",
     "output_type": "stream",
     "text": [
      "GET store 2: 200 {'SquareMeters': 665.0, 'StoreKey': 2, 'Country': 'Australia', 'State': 'Northern Territory', 'OpenDate': '1/12/2008'}\n"
     ]
    }
   ],
   "source": [
    "store_id = 2\n",
    "response = requests.get(f\"{BASE_URL}/{store_id}\")\n",
    "print(f\"GET store {store_id}:\", response.status_code, response.json())"
   ]
  },
  {
   "cell_type": "markdown",
   "id": "ccefabcd",
   "metadata": {},
   "source": [
    "## Update a Store"
   ]
  },
  {
   "cell_type": "code",
   "execution_count": 7,
   "id": "6076aaea",
   "metadata": {},
   "outputs": [
    {
     "name": "stdout",
     "output_type": "stream",
     "text": [
      "PUT update store: 200 {'SquareMeters': 120.0, 'StoreKey': 2, 'Country': 'Updated Testland', 'State': 'Updated State', 'OpenDate': '2021-06-01'}\n"
     ]
    }
   ],
   "source": [
    "updated_store = {\n",
    "    \"StoreKey\": 2,\n",
    "    \"Country\": \"Updated Testland\",\n",
    "    \"State\": \"Updated State\",\n",
    "    \"SquareMeters\": 120.0,  # Updated field\n",
    "    \"OpenDate\": \"2021-06-01\"  # Updated field\n",
    "}\n",
    "response = requests.put(f\"{BASE_URL}/{store_id}\", json=updated_store)\n",
    "print(\"PUT update store:\", response.status_code, response.json())"
   ]
  },
  {
   "cell_type": "markdown",
   "id": "7411cfff",
   "metadata": {},
   "source": [
    "## Partially Update a Store"
   ]
  },
  {
   "cell_type": "code",
   "execution_count": 8,
   "id": "b4dfb164",
   "metadata": {},
   "outputs": [
    {
     "name": "stdout",
     "output_type": "stream",
     "text": [
      "PATCH partial update store: 200 {'SquareMeters': 150.0, 'StoreKey': 2, 'Country': 'Updated Testland', 'State': 'Updated State', 'OpenDate': '2021-06-01'}\n"
     ]
    }
   ],
   "source": [
    "# PATCH - Partial update of a store\n",
    "partial_update = {\"SquareMeters\": 150.0}\n",
    "response = requests.patch(f\"{BASE_URL}/{store_id}\", json=partial_update)\n",
    "print(\"PATCH partial update store:\", response.status_code, response.json())"
   ]
  },
  {
   "cell_type": "markdown",
   "id": "3e89859a",
   "metadata": {},
   "source": [
    "## Delete a Store"
   ]
  },
  {
   "cell_type": "code",
   "execution_count": 9,
   "id": "21972e6c",
   "metadata": {},
   "outputs": [
    {
     "name": "stdout",
     "output_type": "stream",
     "text": [
      "DELETE store: 200 {'200': 'Store 67 successfully deleted'}\n"
     ]
    }
   ],
   "source": [
    "# DELETE - Remove the store\n",
    "response = requests.delete(f\"{BASE_URL}/67\")\n",
    "print(\"DELETE store:\", response.status_code, response.json())"
   ]
  }
 ],
 "metadata": {
  "kernelspec": {
   "display_name": "Python 3 (ipykernel)",
   "language": "python",
   "name": "python3"
  },
  "language_info": {
   "codemirror_mode": {
    "name": "ipython",
    "version": 3
   },
   "file_extension": ".py",
   "mimetype": "text/x-python",
   "name": "python",
   "nbconvert_exporter": "python",
   "pygments_lexer": "ipython3",
   "version": "3.10.12"
  }
 },
 "nbformat": 4,
 "nbformat_minor": 5
}
